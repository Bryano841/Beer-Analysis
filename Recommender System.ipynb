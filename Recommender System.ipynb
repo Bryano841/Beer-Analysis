{
 "cells": [
  {
   "cell_type": "code",
   "execution_count": 2,
   "metadata": {},
   "outputs": [],
   "source": [
    "# Load Python libraries\n",
    "import numpy as np\n",
    "import pandas as pd\n",
    "import torch\n",
    "import torch.nn as nn\n",
    "import torch.optim as optim\n",
    "import random"
   ]
  },
  {
   "cell_type": "code",
   "execution_count": 104,
   "metadata": {},
   "outputs": [
    {
     "name": "stderr",
     "output_type": "stream",
     "text": [
      "C:\\Users\\Lor.PC\\Anaconda3\\lib\\site-packages\\IPython\\core\\interactiveshell.py:3057: DtypeWarning: Columns (10,18,19,20,21,23,25,33,34,36,38,46,48,50,58,60,62,70,72,74,82,84,86,94,96,98,106,108,110,118,120,122,130,132,134,144,146,154,156,158,166,168,170,178,180,182,190,192,194,202,204,206,214) have mixed types. Specify dtype option on import or set low_memory=False.\n",
      "  interactivity=interactivity, compiler=compiler, result=result)\n"
     ]
    }
   ],
   "source": [
    "beer = pd.read_csv('beers-cleaned.csv',encoding=\"ISO-8859-1\", low_memory = \"False\")\n",
    "br = pd.read_csv('breweries.csv', encoding=\"ISO-8859-1\", low_memory = \"False\")\n",
    "reviews = pd.read_csv('beer_reviews.csv', encoding=\"ISO-8859-1\", low_memory = \"False\")"
   ]
  },
  {
   "cell_type": "code",
   "execution_count": 105,
   "metadata": {},
   "outputs": [
    {
     "data": {
      "text/html": [
       "<div>\n",
       "<style scoped>\n",
       "    .dataframe tbody tr th:only-of-type {\n",
       "        vertical-align: middle;\n",
       "    }\n",
       "\n",
       "    .dataframe tbody tr th {\n",
       "        vertical-align: top;\n",
       "    }\n",
       "\n",
       "    .dataframe thead th {\n",
       "        text-align: right;\n",
       "    }\n",
       "</style>\n",
       "<table border=\"1\" class=\"dataframe\">\n",
       "  <thead>\n",
       "    <tr style=\"text-align: right;\">\n",
       "      <th></th>\n",
       "      <th>review_profilename</th>\n",
       "      <th>beer_name</th>\n",
       "      <th>review_overall</th>\n",
       "    </tr>\n",
       "  </thead>\n",
       "  <tbody>\n",
       "    <tr>\n",
       "      <th>0</th>\n",
       "      <td>stcules</td>\n",
       "      <td>Sausa Weizen</td>\n",
       "      <td>1.5</td>\n",
       "    </tr>\n",
       "    <tr>\n",
       "      <th>1</th>\n",
       "      <td>stcules</td>\n",
       "      <td>Red Moon</td>\n",
       "      <td>3.0</td>\n",
       "    </tr>\n",
       "    <tr>\n",
       "      <th>2</th>\n",
       "      <td>stcules</td>\n",
       "      <td>Black Horse Black Beer</td>\n",
       "      <td>3.0</td>\n",
       "    </tr>\n",
       "    <tr>\n",
       "      <th>3</th>\n",
       "      <td>stcules</td>\n",
       "      <td>Sausa Pils</td>\n",
       "      <td>3.0</td>\n",
       "    </tr>\n",
       "    <tr>\n",
       "      <th>4</th>\n",
       "      <td>johnmichaelsen</td>\n",
       "      <td>Cauldron DIPA</td>\n",
       "      <td>4.0</td>\n",
       "    </tr>\n",
       "  </tbody>\n",
       "</table>\n",
       "</div>"
      ],
      "text/plain": [
       "  review_profilename               beer_name  review_overall\n",
       "0            stcules            Sausa Weizen             1.5\n",
       "1            stcules                Red Moon             3.0\n",
       "2            stcules  Black Horse Black Beer             3.0\n",
       "3            stcules              Sausa Pils             3.0\n",
       "4     johnmichaelsen           Cauldron DIPA             4.0"
      ]
     },
     "execution_count": 105,
     "metadata": {},
     "output_type": "execute_result"
    }
   ],
   "source": [
    "reviews.head()"
   ]
  },
  {
   "cell_type": "code",
   "execution_count": 108,
   "metadata": {
    "scrolled": false
   },
   "outputs": [
    {
     "data": {
      "text/plain": [
       "['review_profilename', 'beer_name', 'review_overall']"
      ]
     },
     "execution_count": 108,
     "metadata": {},
     "output_type": "execute_result"
    }
   ],
   "source": [
    "list(reviews.columns)"
   ]
  },
  {
   "cell_type": "code",
   "execution_count": 109,
   "metadata": {
    "scrolled": true
   },
   "outputs": [
    {
     "data": {
      "text/html": [
       "<div>\n",
       "<style scoped>\n",
       "    .dataframe tbody tr th:only-of-type {\n",
       "        vertical-align: middle;\n",
       "    }\n",
       "\n",
       "    .dataframe tbody tr th {\n",
       "        vertical-align: top;\n",
       "    }\n",
       "\n",
       "    .dataframe thead th {\n",
       "        text-align: right;\n",
       "    }\n",
       "</style>\n",
       "<table border=\"1\" class=\"dataframe\">\n",
       "  <thead>\n",
       "    <tr style=\"text-align: right;\">\n",
       "      <th></th>\n",
       "      <th>review_profilename</th>\n",
       "      <th>beer_name</th>\n",
       "      <th>review_overall</th>\n",
       "    </tr>\n",
       "  </thead>\n",
       "  <tbody>\n",
       "    <tr>\n",
       "      <th>0</th>\n",
       "      <td>stcules</td>\n",
       "      <td>Sausa Weizen</td>\n",
       "      <td>1.5</td>\n",
       "    </tr>\n",
       "    <tr>\n",
       "      <th>1</th>\n",
       "      <td>stcules</td>\n",
       "      <td>Red Moon</td>\n",
       "      <td>3.0</td>\n",
       "    </tr>\n",
       "    <tr>\n",
       "      <th>2</th>\n",
       "      <td>stcules</td>\n",
       "      <td>Black Horse Black Beer</td>\n",
       "      <td>3.0</td>\n",
       "    </tr>\n",
       "    <tr>\n",
       "      <th>3</th>\n",
       "      <td>stcules</td>\n",
       "      <td>Sausa Pils</td>\n",
       "      <td>3.0</td>\n",
       "    </tr>\n",
       "    <tr>\n",
       "      <th>4</th>\n",
       "      <td>johnmichaelsen</td>\n",
       "      <td>Cauldron DIPA</td>\n",
       "      <td>4.0</td>\n",
       "    </tr>\n",
       "  </tbody>\n",
       "</table>\n",
       "</div>"
      ],
      "text/plain": [
       "  review_profilename               beer_name  review_overall\n",
       "0            stcules            Sausa Weizen             1.5\n",
       "1            stcules                Red Moon             3.0\n",
       "2            stcules  Black Horse Black Beer             3.0\n",
       "3            stcules              Sausa Pils             3.0\n",
       "4     johnmichaelsen           Cauldron DIPA             4.0"
      ]
     },
     "execution_count": 109,
     "metadata": {},
     "output_type": "execute_result"
    }
   ],
   "source": [
    "ratings = reviews[[\"review_profilename\",\"beer_name\",\"review_overall\"]]\n",
    "ratings.head()"
   ]
  },
  {
   "cell_type": "code",
   "execution_count": 110,
   "metadata": {},
   "outputs": [
    {
     "data": {
      "text/html": [
       "<div>\n",
       "<style scoped>\n",
       "    .dataframe tbody tr th:only-of-type {\n",
       "        vertical-align: middle;\n",
       "    }\n",
       "\n",
       "    .dataframe tbody tr th {\n",
       "        vertical-align: top;\n",
       "    }\n",
       "\n",
       "    .dataframe thead th {\n",
       "        text-align: right;\n",
       "    }\n",
       "</style>\n",
       "<table border=\"1\" class=\"dataframe\">\n",
       "  <thead>\n",
       "    <tr style=\"text-align: right;\">\n",
       "      <th></th>\n",
       "      <th>review_overall</th>\n",
       "      <th>User_ID</th>\n",
       "      <th>Item_ID</th>\n",
       "    </tr>\n",
       "  </thead>\n",
       "  <tbody>\n",
       "    <tr>\n",
       "      <th>0</th>\n",
       "      <td>1.5</td>\n",
       "      <td>1</td>\n",
       "      <td>1</td>\n",
       "    </tr>\n",
       "    <tr>\n",
       "      <th>1</th>\n",
       "      <td>3.0</td>\n",
       "      <td>1</td>\n",
       "      <td>2</td>\n",
       "    </tr>\n",
       "    <tr>\n",
       "      <th>2</th>\n",
       "      <td>3.0</td>\n",
       "      <td>1</td>\n",
       "      <td>3</td>\n",
       "    </tr>\n",
       "    <tr>\n",
       "      <th>3</th>\n",
       "      <td>3.0</td>\n",
       "      <td>1</td>\n",
       "      <td>4</td>\n",
       "    </tr>\n",
       "    <tr>\n",
       "      <th>4</th>\n",
       "      <td>4.0</td>\n",
       "      <td>2</td>\n",
       "      <td>5</td>\n",
       "    </tr>\n",
       "  </tbody>\n",
       "</table>\n",
       "</div>"
      ],
      "text/plain": [
       "   review_overall User_ID Item_ID\n",
       "0             1.5       1       1\n",
       "1             3.0       1       2\n",
       "2             3.0       1       3\n",
       "3             3.0       1       4\n",
       "4             4.0       2       5"
      ]
     },
     "execution_count": 110,
     "metadata": {},
     "output_type": "execute_result"
    }
   ],
   "source": [
    "ratings[\"User_ID\"] = pd.Categorical((pd.factorize(ratings.review_profilename)[0] + 1))\n",
    "ratings[\"Item_ID\"] = pd.Categorical((pd.factorize(ratings.beer_name)[0] + 1))\n",
    "ratings = ratings.drop(columns=\"review_profilename\")\n",
    "ratings = ratings.drop(columns=\"beer_name\")\n",
    "ratings.head()"
   ]
  },
  {
   "cell_type": "code",
   "execution_count": 8,
   "metadata": {},
   "outputs": [],
   "source": [
    "rating_col, user_col, item_col = ratings.columns"
   ]
  },
  {
   "cell_type": "code",
   "execution_count": 9,
   "metadata": {},
   "outputs": [],
   "source": [
    "def list_2_dict(id_list:list):\n",
    "    d={}\n",
    "    for id, index in zip(id_list, range(len(id_list))):\n",
    "        d[id] = index\n",
    "    return d"
   ]
  },
  {
   "cell_type": "code",
   "execution_count": 10,
   "metadata": {},
   "outputs": [],
   "source": [
    "# splits ratings dataframe to training and validation dataframes\n",
    "def get_data(ratings, valid_pct:float = 0.2):\n",
    "    # shuffle the indexes\n",
    "    ln = random.sample(range(0, len(ratings)), len(ratings))\n",
    "    \n",
    "    # split based on the given validation set percentage \n",
    "    part = int(len(ln)*valid_pct)\n",
    "    \n",
    "    valid_index = ln[0:part]\n",
    "    train_index = ln[part:]\n",
    "    valid = ratings.iloc[valid_index]\n",
    "    train = ratings.iloc[train_index]\n",
    "    return [train,valid]"
   ]
  },
  {
   "cell_type": "code",
   "execution_count": 11,
   "metadata": {},
   "outputs": [],
   "source": [
    "def get_batch(ratings, start:int, end:int):\n",
    "    return ratings[user_col][start:end].values, ratings[item_col][start:end].values, ratings[rating_col][start:end].values\n"
   ]
  },
  {
   "cell_type": "code",
   "execution_count": 26,
   "metadata": {},
   "outputs": [],
   "source": [
    "# Reference: https://towardsdatascience.com/make-your-own-recommendation-system-b596d847296d\n",
    "# neural net based on Embedding matrices\n",
    "# model reference -> https://github.com/fastai/fastai/\n",
    "class EmbeddingModel(nn.Module):\n",
    "    def __init__(self, n_factors, n_users, n_items, y_range, initialise = 0.01):\n",
    "        super().__init__()\n",
    "        self.y_range = y_range\n",
    "        self.u_weight = nn.Embedding(n_users, n_factors)\n",
    "        self.i_weight = nn.Embedding(n_items, n_factors)\n",
    "#         self.u_bias = nn.Embedding(n_users, 1)\n",
    "        self.i_bias = nn.Embedding(n_items, 1)\n",
    "        \n",
    "        # initialise the weights of the embeddings\n",
    "        self.u_weight.weight.data.uniform_(-initialise, initialise)\n",
    "        self.i_weight.weight.data.uniform_(-initialise, initialise)\n",
    "#         self.u_bias.weight.data.uniform_(-initialise, initialise)\n",
    "        self.i_bias.weight.data.uniform_(-initialise, initialise)\n",
    "\n",
    "    def forward(self, users, items):\n",
    "        # dot multiply the weights for the given user_id and item_id\n",
    "        dot = self.u_weight(users)* self.i_weight(items)\n",
    "        \n",
    "        # sum the result of dot multiplication above and add both the bias terms\n",
    "        res = dot.sum(1)+ self.i_bias(items).squeeze()# + self.u_bias(users).squeeze() + self.i_bias(items).squeeze()\n",
    "        \n",
    "        # return the output in the given range\n",
    "        return torch.sigmoid(res) * (self.y_range[1]-self.y_range[0]) + self.y_range[0]"
   ]
  },
  {
   "cell_type": "code",
   "execution_count": 27,
   "metadata": {},
   "outputs": [],
   "source": [
    "def train(epochs = 5, bs = 64):\n",
    "    for epoch in range(epochs):\n",
    "        \n",
    "        # training the model\n",
    "        i=0\n",
    "        total_loss = 0.0\n",
    "        ct = 0\n",
    "        while i < len(data[0]):\n",
    "            x1,x2,y = get_batch(data[0],i,i+bs)\n",
    "            i+=bs\n",
    "            ct+=1\n",
    "            user_ids = torch.LongTensor([user2idx[u] for u in x1]).cuda()\n",
    "            item_ids = torch.LongTensor([item2idx[b] for b in x2]).cuda()\n",
    "            y = torch.Tensor(y).cuda()\n",
    "            # disregard/zero the gradients from previous computation\n",
    "            model.zero_grad() \n",
    "            preds = model(user_ids,item_ids)\n",
    "            loss = loss_function(preds, y)\n",
    "            loss.backward()\n",
    "            optimizer.step()\n",
    "            total_loss += loss.item()\n",
    "        total_loss /= ct\n",
    "        \n",
    "        # getting the loss on validation set\n",
    "        i = 0\n",
    "        total_val_loss = 0.0\n",
    "        cv=0\n",
    "        m = model.eval() # setting the model to evaluation mode\n",
    "        while i < len(data[1]):\n",
    "            x11,x21,y1 = get_batch(data[1],i,i+bs)\n",
    "            i+=bs\n",
    "            cv+=1\n",
    "            user_ids = torch.LongTensor([user2idx[u] for u in x11]).cuda()\n",
    "            item_ids = torch.LongTensor([item2idx[b] for b in x21]).cuda()\n",
    "            y1 = torch.Tensor(y1).cuda()\n",
    "            preds = m(user_ids,item_ids)\n",
    "            loss = loss_function(preds, y1)\n",
    "            total_val_loss += loss.item()\n",
    "        total_val_loss /= cv\n",
    "        \n",
    "        print('epoch', epoch+1, '   train loss', \"%.3f\" % total_loss, \n",
    "              '   valid loss', \"%.3f\" % total_val_loss)"
   ]
  },
  {
   "cell_type": "code",
   "execution_count": 28,
   "metadata": {},
   "outputs": [],
   "source": [
    "def recommend_item_for_user(model, user_id):\n",
    "    m = model.eval().cpu()\n",
    "    user_ids = torch.LongTensor([user2idx[u] for u in [user_id]*len(items)])\n",
    "    item_ids = torch.LongTensor([item2idx[b] for b in items])\n",
    "    remove = set(ratings[ratings[user_col] == user_id][item_col].values)\n",
    "    preds = m(user_ids,item_ids).detach().numpy()\n",
    "    pred_item = [(p,b) for p,b in sorted(zip(preds,items), reverse = True) if b not in remove]\n",
    "    return pred_item\n",
    "\n",
    "def recommend_user_for_item(model, item_id):\n",
    "    m = model.eval().cpu()\n",
    "    user_ids = torch.LongTensor([user2idx[u] for u in users])\n",
    "    item_ids = torch.LongTensor([item2idx[b] for b in [item_id]*len(users)])\n",
    "    remove = set(ratings[ratings[item_col] == item_ids][user_col].values)\n",
    "    preds = m(user_ids,item_ids).detach().numpy()\n",
    "    pred_user = [(p,u) \n",
    "                 for p,u in sorted(zip(preds,users), reverse = True) if u not in remove]\n",
    "    return pred_user"
   ]
  },
  {
   "cell_type": "code",
   "execution_count": 71,
   "metadata": {},
   "outputs": [],
   "source": [
    "# get list of unique user ids\n",
    "users = sorted(list(set(ratings[user_col].values)))\n",
    "\n",
    "# get list of unique item ids\n",
    "items = sorted(list(set(ratings[item_col].values)))\n",
    "\n",
    "# generate dict of correponding indexes for the user ids\n",
    "user2idx = list_2_dict(users)\n",
    "\n",
    "# generate dict of correponding indexes for the item ids\n",
    "item2idx = list_2_dict(items)"
   ]
  },
  {
   "cell_type": "code",
   "execution_count": 72,
   "metadata": {},
   "outputs": [],
   "source": [
    "# create a model object\n",
    "# y_range has been extended(0-11) than required(1-10) to make the\n",
    "# values lie in the linear region of the sigmoid function\n",
    "model = EmbeddingModel(5, len(users), len(items), [0,6], initialise = 0.01).cuda()\n",
    "\n",
    "# split the data, returns a list [train, valid]\n",
    "data = get_data(ratings, 0.25)\n",
    "\n",
    "# loss = mean((target_rating - predicted_rating)**2)\n",
    "loss_function = nn.MSELoss()\n",
    "\n",
    "# optimizer function will update the weights of the Neural Net\n",
    "optimizer = optim.SGD(model.parameters(), lr=0.003, momentum=0.9)\n",
    "\n",
    "# batch size for each input\n",
    "bs = 128"
   ]
  },
  {
   "cell_type": "code",
   "execution_count": 31,
   "metadata": {
    "scrolled": true
   },
   "outputs": [
    {
     "name": "stdout",
     "output_type": "stream",
     "text": [
      "epoch 1    train loss 0.933    valid loss 0.787\n"
     ]
    }
   ],
   "source": [
    "train(1, bs)"
   ]
  },
  {
   "cell_type": "code",
   "execution_count": 58,
   "metadata": {},
   "outputs": [
    {
     "name": "stdout",
     "output_type": "stream",
     "text": [
      "epoch 1    train loss 0.932    valid loss 0.789\n",
      "epoch 2    train loss 0.723    valid loss 0.678\n",
      "epoch 3    train loss 0.645    valid loss 0.623\n",
      "epoch 4    train loss 0.601    valid loss 0.589\n",
      "epoch 5    train loss 0.572    valid loss 0.565\n"
     ]
    }
   ],
   "source": [
    "train(5, bs)"
   ]
  },
  {
   "cell_type": "code",
   "execution_count": 73,
   "metadata": {},
   "outputs": [
    {
     "name": "stdout",
     "output_type": "stream",
     "text": [
      "epoch 1    train loss 0.932    valid loss 0.789\n",
      "epoch 2    train loss 0.723    valid loss 0.678\n",
      "epoch 3    train loss 0.645    valid loss 0.622\n",
      "epoch 4    train loss 0.601    valid loss 0.588\n",
      "epoch 5    train loss 0.572    valid loss 0.565\n",
      "epoch 6    train loss 0.551    valid loss 0.548\n",
      "epoch 7    train loss 0.536    valid loss 0.534\n",
      "epoch 8    train loss 0.523    valid loss 0.524\n",
      "epoch 9    train loss 0.513    valid loss 0.515\n",
      "epoch 10    train loss 0.505    valid loss 0.507\n",
      "epoch 11    train loss 0.498    valid loss 0.501\n",
      "epoch 12    train loss 0.491    valid loss 0.495\n",
      "epoch 13    train loss 0.486    valid loss 0.490\n",
      "epoch 14    train loss 0.481    valid loss 0.486\n",
      "epoch 15    train loss 0.477    valid loss 0.482\n"
     ]
    }
   ],
   "source": [
    "train(15, bs)"
   ]
  },
  {
   "cell_type": "code",
   "execution_count": 47,
   "metadata": {},
   "outputs": [],
   "source": [
    "#pd.DataFrame(recommend_user_for_item(model, 2),columns=[\"Ranking\",\"User_ID\"])"
   ]
  },
  {
   "cell_type": "code",
   "execution_count": 32,
   "metadata": {},
   "outputs": [
    {
     "ename": "NameError",
     "evalue": "name 'item_id_df' is not defined",
     "output_type": "error",
     "traceback": [
      "\u001b[1;31m---------------------------------------------------------------------------\u001b[0m",
      "\u001b[1;31mNameError\u001b[0m                                 Traceback (most recent call last)",
      "\u001b[1;32m<ipython-input-32-ed4149c97fbc>\u001b[0m in \u001b[0;36m<module>\u001b[1;34m\u001b[0m\n\u001b[1;32m----> 1\u001b[1;33m pd.DataFrame(recommend_item_for_user(model, item_id_df.loc[item_id_df['beer_name'] == \"Old Cherry\"]\n\u001b[0m\u001b[0;32m      2\u001b[0m                                      [\"Item_ID\"].values[0]),columns=[\"Ranking\",\"Item_ID\"]).head(10)\n",
      "\u001b[1;31mNameError\u001b[0m: name 'item_id_df' is not defined"
     ]
    }
   ],
   "source": [
    "#pd.DataFrame(recommend_item_for_user(model, item_id_df.loc[item_id_df['beer_name'] == \"Old Cherry\"]\n",
    "                                     [\"Item_ID\"].values[0]),columns=[\"Ranking\",\"Item_ID\"]).head(10)"
   ]
  },
  {
   "cell_type": "code",
   "execution_count": 49,
   "metadata": {},
   "outputs": [],
   "source": [
    "#pd.unique(ratings[\"Item_ID\"])"
   ]
  },
  {
   "cell_type": "code",
   "execution_count": 33,
   "metadata": {
    "scrolled": true
   },
   "outputs": [
    {
     "name": "stderr",
     "output_type": "stream",
     "text": [
      "C:\\Users\\Lor.PC\\Anaconda3\\lib\\site-packages\\ipykernel_launcher.py:2: SettingWithCopyWarning: \n",
      "A value is trying to be set on a copy of a slice from a DataFrame.\n",
      "Try using .loc[row_indexer,col_indexer] = value instead\n",
      "\n",
      "See the caveats in the documentation: http://pandas.pydata.org/pandas-docs/stable/indexing.html#indexing-view-versus-copy\n",
      "  \n"
     ]
    },
    {
     "data": {
      "text/html": [
       "<div>\n",
       "<style scoped>\n",
       "    .dataframe tbody tr th:only-of-type {\n",
       "        vertical-align: middle;\n",
       "    }\n",
       "\n",
       "    .dataframe tbody tr th {\n",
       "        vertical-align: top;\n",
       "    }\n",
       "\n",
       "    .dataframe thead th {\n",
       "        text-align: right;\n",
       "    }\n",
       "</style>\n",
       "<table border=\"1\" class=\"dataframe\">\n",
       "  <thead>\n",
       "    <tr style=\"text-align: right;\">\n",
       "      <th></th>\n",
       "      <th>Item_ID</th>\n",
       "      <th>beer_name</th>\n",
       "    </tr>\n",
       "  </thead>\n",
       "  <tbody>\n",
       "    <tr>\n",
       "      <th>0</th>\n",
       "      <td>0</td>\n",
       "      <td>Sausa Weizen</td>\n",
       "    </tr>\n",
       "    <tr>\n",
       "      <th>1</th>\n",
       "      <td>1</td>\n",
       "      <td>Red Moon</td>\n",
       "    </tr>\n",
       "    <tr>\n",
       "      <th>2</th>\n",
       "      <td>2</td>\n",
       "      <td>Black Horse Black Beer</td>\n",
       "    </tr>\n",
       "    <tr>\n",
       "      <th>3</th>\n",
       "      <td>3</td>\n",
       "      <td>Sausa Pils</td>\n",
       "    </tr>\n",
       "    <tr>\n",
       "      <th>4</th>\n",
       "      <td>4</td>\n",
       "      <td>Cauldron DIPA</td>\n",
       "    </tr>\n",
       "  </tbody>\n",
       "</table>\n",
       "</div>"
      ],
      "text/plain": [
       "   Item_ID               beer_name\n",
       "0        0            Sausa Weizen\n",
       "1        1                Red Moon\n",
       "2        2  Black Horse Black Beer\n",
       "3        3              Sausa Pils\n",
       "4        4           Cauldron DIPA"
      ]
     },
     "execution_count": 33,
     "metadata": {},
     "output_type": "execute_result"
    }
   ],
   "source": [
    "ratings2 = reviews[[\"review_profilename\",\"beer_name\",\"review_overall\"]]\n",
    "ratings2[\"Item_ID\"] = pd.Categorical((pd.factorize(ratings2.beer_name)[0] + 1))\n",
    "ratings2 = ratings2[[\"beer_name\",\"Item_ID\"]]\n",
    "ratings2[\"Item_ID\"] = ratings2[\"Item_ID\"].subtract(len(ratings2[\"Item_ID\"])*[1])\n",
    "ratings2 = ratings2.drop_duplicates(keep='last')\n",
    "Item_Name=list(ratings2[\"beer_name\"].values)\n",
    "ItemNameDict = list_2_dict(Item_Name)\n",
    "df = pd.DataFrame.from_dict(ItemNameDict,orient='index')\n",
    "df[\"beer_name\"] = df.index\n",
    "item_id_df = df.reset_index(drop=True)\n",
    "item_id_df = item_id_df.rename(columns={0:\"Item_ID\"})\n",
    "item_id_df.head()"
   ]
  },
  {
   "cell_type": "code",
   "execution_count": 34,
   "metadata": {},
   "outputs": [],
   "source": [
    "#len(ratings[ratings[\"Item_ID\"] == 10])/len(ratings)"
   ]
  },
  {
   "cell_type": "code",
   "execution_count": 99,
   "metadata": {},
   "outputs": [],
   "source": [
    "Model_df = pd.DataFrame(recommend_user_for_item(model, \n",
    "           item_id_df.loc[item_id_df['beer_name'] == \"Old Cherry\"]\n",
    "           [\"Item_ID\"].values[0]),columns=[\"Ranking\",\"Item_ID\"]).tail(10)"
   ]
  },
  {
   "cell_type": "code",
   "execution_count": 100,
   "metadata": {},
   "outputs": [
    {
     "data": {
      "text/html": [
       "<div>\n",
       "<style scoped>\n",
       "    .dataframe tbody tr th:only-of-type {\n",
       "        vertical-align: middle;\n",
       "    }\n",
       "\n",
       "    .dataframe tbody tr th {\n",
       "        vertical-align: top;\n",
       "    }\n",
       "\n",
       "    .dataframe thead th {\n",
       "        text-align: right;\n",
       "    }\n",
       "</style>\n",
       "<table border=\"1\" class=\"dataframe\">\n",
       "  <thead>\n",
       "    <tr style=\"text-align: right;\">\n",
       "      <th></th>\n",
       "      <th>Ranking</th>\n",
       "      <th>Item_ID</th>\n",
       "      <th>beer_name</th>\n",
       "    </tr>\n",
       "  </thead>\n",
       "  <tbody>\n",
       "    <tr>\n",
       "      <th>9</th>\n",
       "      <td>3.039425</td>\n",
       "      <td>28550</td>\n",
       "      <td>2010 Reserve Old Boardhead Barley Wine Ale</td>\n",
       "    </tr>\n",
       "    <tr>\n",
       "      <th>8</th>\n",
       "      <td>3.039430</td>\n",
       "      <td>5196</td>\n",
       "      <td>Batch #69 Double Cream Ale - Tangerine</td>\n",
       "    </tr>\n",
       "    <tr>\n",
       "      <th>7</th>\n",
       "      <td>3.039436</td>\n",
       "      <td>7711</td>\n",
       "      <td>Ysta FÃ¤rskÃ¶l</td>\n",
       "    </tr>\n",
       "    <tr>\n",
       "      <th>6</th>\n",
       "      <td>3.039439</td>\n",
       "      <td>21725</td>\n",
       "      <td>Piwo Twierdzowe</td>\n",
       "    </tr>\n",
       "    <tr>\n",
       "      <th>5</th>\n",
       "      <td>3.039441</td>\n",
       "      <td>7639</td>\n",
       "      <td>Greene's Gargolye Amber</td>\n",
       "    </tr>\n",
       "    <tr>\n",
       "      <th>4</th>\n",
       "      <td>3.039454</td>\n",
       "      <td>10352</td>\n",
       "      <td>Berliner BÃ¼rgerbrÃ¤u Maibock</td>\n",
       "    </tr>\n",
       "    <tr>\n",
       "      <th>3</th>\n",
       "      <td>3.039456</td>\n",
       "      <td>22292</td>\n",
       "      <td>Beck's Green Lemon</td>\n",
       "    </tr>\n",
       "    <tr>\n",
       "      <th>2</th>\n",
       "      <td>3.039462</td>\n",
       "      <td>6574</td>\n",
       "      <td>Green Flash Super Freak</td>\n",
       "    </tr>\n",
       "    <tr>\n",
       "      <th>1</th>\n",
       "      <td>3.039470</td>\n",
       "      <td>14177</td>\n",
       "      <td>Sean's Super Nugget IPA</td>\n",
       "    </tr>\n",
       "    <tr>\n",
       "      <th>0</th>\n",
       "      <td>3.039471</td>\n",
       "      <td>21950</td>\n",
       "      <td>Sun Woo Kong Imperial Monkey IPA</td>\n",
       "    </tr>\n",
       "  </tbody>\n",
       "</table>\n",
       "</div>"
      ],
      "text/plain": [
       "    Ranking  Item_ID                                   beer_name\n",
       "9  3.039425    28550  2010 Reserve Old Boardhead Barley Wine Ale\n",
       "8  3.039430     5196      Batch #69 Double Cream Ale - Tangerine\n",
       "7  3.039436     7711                              Ysta FÃ¤rskÃ¶l\n",
       "6  3.039439    21725                             Piwo Twierdzowe\n",
       "5  3.039441     7639                     Greene's Gargolye Amber\n",
       "4  3.039454    10352               Berliner BÃ¼rgerbrÃ¤u Maibock\n",
       "3  3.039456    22292                          Beck's Green Lemon\n",
       "2  3.039462     6574                     Green Flash Super Freak\n",
       "1  3.039470    14177                     Sean's Super Nugget IPA\n",
       "0  3.039471    21950            Sun Woo Kong Imperial Monkey IPA"
      ]
     },
     "execution_count": 100,
     "metadata": {},
     "output_type": "execute_result"
    }
   ],
   "source": [
    "Model_df = Model_df.merge(item_id_df, how=\"inner\")\n",
    "Model_df.sort_values(by=\"Ranking\")"
   ]
  },
  {
   "cell_type": "code",
   "execution_count": 86,
   "metadata": {},
   "outputs": [],
   "source": []
  },
  {
   "cell_type": "code",
   "execution_count": 53,
   "metadata": {},
   "outputs": [],
   "source": [
    "#item_id_df.loc[item_id_df['Item_ID'] == 31944]"
   ]
  },
  {
   "cell_type": "code",
   "execution_count": 54,
   "metadata": {},
   "outputs": [],
   "source": [
    "Check_df = pd.DataFrame(columns = [\"Item_ID\",\"beer_name\"])\n",
    "for x in Model_df[\"Item_ID\"]:\n",
    "    Check_df = Check_df.append(item_id_df.loc[item_id_df['Item_ID'] == x])"
   ]
  },
  {
   "cell_type": "code",
   "execution_count": 55,
   "metadata": {},
   "outputs": [
    {
     "data": {
      "text/html": [
       "<div>\n",
       "<style scoped>\n",
       "    .dataframe tbody tr th:only-of-type {\n",
       "        vertical-align: middle;\n",
       "    }\n",
       "\n",
       "    .dataframe tbody tr th {\n",
       "        vertical-align: top;\n",
       "    }\n",
       "\n",
       "    .dataframe thead th {\n",
       "        text-align: right;\n",
       "    }\n",
       "</style>\n",
       "<table border=\"1\" class=\"dataframe\">\n",
       "  <thead>\n",
       "    <tr style=\"text-align: right;\">\n",
       "      <th></th>\n",
       "      <th>Item_ID</th>\n",
       "      <th>beer_name</th>\n",
       "    </tr>\n",
       "  </thead>\n",
       "  <tbody>\n",
       "    <tr>\n",
       "      <th>53522</th>\n",
       "      <td>53522</td>\n",
       "      <td>Winter Nip Porter</td>\n",
       "    </tr>\n",
       "    <tr>\n",
       "      <th>23747</th>\n",
       "      <td>23747</td>\n",
       "      <td>Highland Kashmir IPA</td>\n",
       "    </tr>\n",
       "    <tr>\n",
       "      <th>1704</th>\n",
       "      <td>1704</td>\n",
       "      <td>The Dominator Dopplebock</td>\n",
       "    </tr>\n",
       "    <tr>\n",
       "      <th>14306</th>\n",
       "      <td>14306</td>\n",
       "      <td>Braugold Premium Lager</td>\n",
       "    </tr>\n",
       "    <tr>\n",
       "      <th>13305</th>\n",
       "      <td>13305</td>\n",
       "      <td>Hiroyuki Yuzu Marma-ale</td>\n",
       "    </tr>\n",
       "    <tr>\n",
       "      <th>53937</th>\n",
       "      <td>53937</td>\n",
       "      <td>Southport Pequot IPA</td>\n",
       "    </tr>\n",
       "    <tr>\n",
       "      <th>34113</th>\n",
       "      <td>34113</td>\n",
       "      <td>Barrel-Aged Orbiter Strong Ale</td>\n",
       "    </tr>\n",
       "    <tr>\n",
       "      <th>33350</th>\n",
       "      <td>33350</td>\n",
       "      <td>Sapporo Fuyumonogatari - The Winter's Tale</td>\n",
       "    </tr>\n",
       "    <tr>\n",
       "      <th>47703</th>\n",
       "      <td>47703</td>\n",
       "      <td>White Cap Wheat</td>\n",
       "    </tr>\n",
       "    <tr>\n",
       "      <th>54012</th>\n",
       "      <td>54012</td>\n",
       "      <td>El Toro William Jones Wheat Beer</td>\n",
       "    </tr>\n",
       "  </tbody>\n",
       "</table>\n",
       "</div>"
      ],
      "text/plain": [
       "      Item_ID                                   beer_name\n",
       "53522   53522                           Winter Nip Porter\n",
       "23747   23747                        Highland Kashmir IPA\n",
       "1704     1704                    The Dominator Dopplebock\n",
       "14306   14306                      Braugold Premium Lager\n",
       "13305   13305                     Hiroyuki Yuzu Marma-ale\n",
       "53937   53937                        Southport Pequot IPA\n",
       "34113   34113              Barrel-Aged Orbiter Strong Ale\n",
       "33350   33350  Sapporo Fuyumonogatari - The Winter's Tale\n",
       "47703   47703                             White Cap Wheat\n",
       "54012   54012            El Toro William Jones Wheat Beer"
      ]
     },
     "execution_count": 55,
     "metadata": {},
     "output_type": "execute_result"
    }
   ],
   "source": [
    "Check_df"
   ]
  },
  {
   "cell_type": "code",
   "execution_count": 205,
   "metadata": {},
   "outputs": [],
   "source": [
    "#Extract Value from a row in a dtaframe\n",
    "#item_id_df.loc[item_id_df['beer_name'] == \"Sausa Weizen\"][\"Item_ID\"].values[0]"
   ]
  },
  {
   "cell_type": "code",
   "execution_count": null,
   "metadata": {},
   "outputs": [],
   "source": []
  }
 ],
 "metadata": {
  "kernelspec": {
   "display_name": "Python 3",
   "language": "python",
   "name": "python3"
  },
  "language_info": {
   "codemirror_mode": {
    "name": "ipython",
    "version": 3
   },
   "file_extension": ".py",
   "mimetype": "text/x-python",
   "name": "python",
   "nbconvert_exporter": "python",
   "pygments_lexer": "ipython3",
   "version": "3.7.3"
  }
 },
 "nbformat": 4,
 "nbformat_minor": 2
}
