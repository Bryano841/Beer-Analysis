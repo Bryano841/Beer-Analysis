{
 "cells": [
  {
   "cell_type": "code",
   "execution_count": 15,
   "metadata": {},
   "outputs": [],
   "source": [
    "import pandas as pd\n",
    "import numpy as np\n",
    "%matplotlib inline\n",
    "import matplotlib.pyplot as plt\n",
    "from sklearn.linear_model import LinearRegression\n",
    "from sklearn.model_selection import train_test_split\n",
    "from tensorflow.python.data import Dataset\n",
    "import keras\n",
    "from keras.utils import to_categorical\n",
    "from keras import models\n",
    "from keras import layers"
   ]
  },
  {
   "cell_type": "code",
   "execution_count": 16,
   "metadata": {},
   "outputs": [],
   "source": [
    "beer = \"C:/Users/bryan_j7mwyoj/Desktop/Final Project/Beer-Analysis/beers-cleaned.csv\"\n",
    "brewery = \"C:/Users/bryan_j7mwyoj/Desktop/Final Project/Beer-Analysis/breweries (1).csv\"\n",
    "geocode = \"C:/Users/bryan_j7mwyoj/Desktop/Final Project/Beer-Analysis/breweries_geocode.csv\"\n",
    "category = \"C:/Users/bryan_j7mwyoj/Desktop/Final Project/Beer-Analysis/categories.csv\"\n",
    "style = \"C:/Users/bryan_j7mwyoj/Desktop/Final Project/Beer-Analysis/styles.csv\"\n",
    "brews_pubs = \"C:/Users/bryan_j7mwyoj/Desktop/Final Project/Beer-Analysis/BreweriesPubsUSA.csv\""
   ]
  },
  {
   "cell_type": "code",
   "execution_count": 17,
   "metadata": {},
   "outputs": [
    {
     "name": "stderr",
     "output_type": "stream",
     "text": [
      "C:\\Users\\bryan_j7mwyoj\\Anaconda3\\lib\\site-packages\\IPython\\core\\interactiveshell.py:3057: DtypeWarning: Columns (10,18,19,20,21,23,25,33,34,36,38,46,48,50,58,60,62,70,72,74,82,84,86,94,96,98,106,108,110,118,120,122,130,132,134,144,146,154,156,158,166,168,170,178,180,182,190,192,194,202,204,206,214) have mixed types. Specify dtype option on import or set low_memory=False.\n",
      "  interactivity=interactivity, compiler=compiler, result=result)\n"
     ]
    }
   ],
   "source": [
    "beer = pd.read_csv(beer, encoding='ISO-8859-1')\n",
    "brewery = pd.read_csv(brewery, encoding='ISO-8859-1')\n",
    "geocode = pd.read_csv(geocode, encoding='ISO-8859-1')\n",
    "category = pd.read_csv(category, encoding='ISO-8859-1')\n",
    "style = pd.read_csv(style, encoding='ISO-8859-1')\n",
    "brews_pubs = pd.read_csv(brews_pubs, encoding='ISO-8859-1')"
   ]
  },
  {
   "cell_type": "code",
   "execution_count": 18,
   "metadata": {},
   "outputs": [
    {
     "data": {
      "text/html": [
       "<div>\n",
       "<style scoped>\n",
       "    .dataframe tbody tr th:only-of-type {\n",
       "        vertical-align: middle;\n",
       "    }\n",
       "\n",
       "    .dataframe tbody tr th {\n",
       "        vertical-align: top;\n",
       "    }\n",
       "\n",
       "    .dataframe thead th {\n",
       "        text-align: right;\n",
       "    }\n",
       "</style>\n",
       "<table border=\"1\" class=\"dataframe\">\n",
       "  <thead>\n",
       "    <tr style=\"text-align: right;\">\n",
       "      <th></th>\n",
       "      <th>id</th>\n",
       "      <th>brewery_id</th>\n",
       "      <th>name</th>\n",
       "      <th>cat_id</th>\n",
       "      <th>style_id</th>\n",
       "      <th>abv</th>\n",
       "      <th>ibu</th>\n",
       "      <th>srm</th>\n",
       "      <th>upc</th>\n",
       "      <th>descript</th>\n",
       "      <th>...</th>\n",
       "      <th>Unnamed: 205</th>\n",
       "      <th>Unnamed: 206</th>\n",
       "      <th>Unnamed: 207</th>\n",
       "      <th>Unnamed: 208</th>\n",
       "      <th>Unnamed: 209</th>\n",
       "      <th>Unnamed: 210</th>\n",
       "      <th>Unnamed: 211</th>\n",
       "      <th>Unnamed: 212</th>\n",
       "      <th>Unnamed: 213</th>\n",
       "      <th>Unnamed: 214</th>\n",
       "    </tr>\n",
       "  </thead>\n",
       "  <tbody>\n",
       "    <tr>\n",
       "      <th>0</th>\n",
       "      <td>1</td>\n",
       "      <td>812</td>\n",
       "      <td>Hocus Pocus</td>\n",
       "      <td>11</td>\n",
       "      <td>116</td>\n",
       "      <td>4.5</td>\n",
       "      <td>10.0</td>\n",
       "      <td>0.0</td>\n",
       "      <td>0</td>\n",
       "      <td>Our take on a classic summer ale.  A toast to ...</td>\n",
       "      <td>...</td>\n",
       "      <td>NaN</td>\n",
       "      <td>NaN</td>\n",
       "      <td>NaN</td>\n",
       "      <td>NaN</td>\n",
       "      <td>NaN</td>\n",
       "      <td>NaN</td>\n",
       "      <td>NaN</td>\n",
       "      <td>NaN</td>\n",
       "      <td>NaN</td>\n",
       "      <td>NaN</td>\n",
       "    </tr>\n",
       "    <tr>\n",
       "      <th>1</th>\n",
       "      <td>2</td>\n",
       "      <td>264</td>\n",
       "      <td>Grimbergen Blonde</td>\n",
       "      <td>-1</td>\n",
       "      <td>-1</td>\n",
       "      <td>6.7</td>\n",
       "      <td>10.0</td>\n",
       "      <td>0.0</td>\n",
       "      <td>0</td>\n",
       "      <td>NaN</td>\n",
       "      <td>...</td>\n",
       "      <td>NaN</td>\n",
       "      <td>NaN</td>\n",
       "      <td>NaN</td>\n",
       "      <td>NaN</td>\n",
       "      <td>NaN</td>\n",
       "      <td>NaN</td>\n",
       "      <td>NaN</td>\n",
       "      <td>NaN</td>\n",
       "      <td>NaN</td>\n",
       "      <td>NaN</td>\n",
       "    </tr>\n",
       "    <tr>\n",
       "      <th>2</th>\n",
       "      <td>3</td>\n",
       "      <td>779</td>\n",
       "      <td>Widdershins Barleywine</td>\n",
       "      <td>-1</td>\n",
       "      <td>-1</td>\n",
       "      <td>9.1</td>\n",
       "      <td>10.0</td>\n",
       "      <td>0.0</td>\n",
       "      <td>0</td>\n",
       "      <td>NaN</td>\n",
       "      <td>...</td>\n",
       "      <td>NaN</td>\n",
       "      <td>NaN</td>\n",
       "      <td>NaN</td>\n",
       "      <td>NaN</td>\n",
       "      <td>NaN</td>\n",
       "      <td>NaN</td>\n",
       "      <td>NaN</td>\n",
       "      <td>NaN</td>\n",
       "      <td>NaN</td>\n",
       "      <td>NaN</td>\n",
       "    </tr>\n",
       "    <tr>\n",
       "      <th>3</th>\n",
       "      <td>4</td>\n",
       "      <td>287</td>\n",
       "      <td>Lucifer</td>\n",
       "      <td>-1</td>\n",
       "      <td>-1</td>\n",
       "      <td>8.5</td>\n",
       "      <td>10.0</td>\n",
       "      <td>0.0</td>\n",
       "      <td>0</td>\n",
       "      <td>NaN</td>\n",
       "      <td>...</td>\n",
       "      <td>NaN</td>\n",
       "      <td>NaN</td>\n",
       "      <td>NaN</td>\n",
       "      <td>NaN</td>\n",
       "      <td>NaN</td>\n",
       "      <td>NaN</td>\n",
       "      <td>NaN</td>\n",
       "      <td>NaN</td>\n",
       "      <td>NaN</td>\n",
       "      <td>NaN</td>\n",
       "    </tr>\n",
       "    <tr>\n",
       "      <th>4</th>\n",
       "      <td>5</td>\n",
       "      <td>1056</td>\n",
       "      <td>Bitter</td>\n",
       "      <td>-1</td>\n",
       "      <td>-1</td>\n",
       "      <td>4.0</td>\n",
       "      <td>10.0</td>\n",
       "      <td>0.0</td>\n",
       "      <td>0</td>\n",
       "      <td>NaN</td>\n",
       "      <td>...</td>\n",
       "      <td>NaN</td>\n",
       "      <td>NaN</td>\n",
       "      <td>NaN</td>\n",
       "      <td>NaN</td>\n",
       "      <td>NaN</td>\n",
       "      <td>NaN</td>\n",
       "      <td>NaN</td>\n",
       "      <td>NaN</td>\n",
       "      <td>NaN</td>\n",
       "      <td>NaN</td>\n",
       "    </tr>\n",
       "  </tbody>\n",
       "</table>\n",
       "<p>5 rows × 215 columns</p>\n",
       "</div>"
      ],
      "text/plain": [
       "   id  brewery_id                    name  cat_id  style_id  abv   ibu  srm  \\\n",
       "0   1         812             Hocus Pocus      11       116  4.5  10.0  0.0   \n",
       "1   2         264       Grimbergen Blonde      -1        -1  6.7  10.0  0.0   \n",
       "2   3         779  Widdershins Barleywine      -1        -1  9.1  10.0  0.0   \n",
       "3   4         287                 Lucifer      -1        -1  8.5  10.0  0.0   \n",
       "4   5        1056                  Bitter      -1        -1  4.0  10.0  0.0   \n",
       "\n",
       "   upc                                           descript  ... Unnamed: 205  \\\n",
       "0    0  Our take on a classic summer ale.  A toast to ...  ...          NaN   \n",
       "1    0                                                NaN  ...          NaN   \n",
       "2    0                                                NaN  ...          NaN   \n",
       "3    0                                                NaN  ...          NaN   \n",
       "4    0                                                NaN  ...          NaN   \n",
       "\n",
       "   Unnamed: 206  Unnamed: 207  Unnamed: 208  Unnamed: 209  Unnamed: 210  \\\n",
       "0           NaN           NaN           NaN           NaN           NaN   \n",
       "1           NaN           NaN           NaN           NaN           NaN   \n",
       "2           NaN           NaN           NaN           NaN           NaN   \n",
       "3           NaN           NaN           NaN           NaN           NaN   \n",
       "4           NaN           NaN           NaN           NaN           NaN   \n",
       "\n",
       "   Unnamed: 211  Unnamed: 212 Unnamed: 213 Unnamed: 214  \n",
       "0           NaN           NaN          NaN          NaN  \n",
       "1           NaN           NaN          NaN          NaN  \n",
       "2           NaN           NaN          NaN          NaN  \n",
       "3           NaN           NaN          NaN          NaN  \n",
       "4           NaN           NaN          NaN          NaN  \n",
       "\n",
       "[5 rows x 215 columns]"
      ]
     },
     "execution_count": 18,
     "metadata": {},
     "output_type": "execute_result"
    }
   ],
   "source": [
    "beer.head()"
   ]
  },
  {
   "cell_type": "code",
   "execution_count": 19,
   "metadata": {},
   "outputs": [
    {
     "data": {
      "text/html": [
       "<div>\n",
       "<style scoped>\n",
       "    .dataframe tbody tr th:only-of-type {\n",
       "        vertical-align: middle;\n",
       "    }\n",
       "\n",
       "    .dataframe tbody tr th {\n",
       "        vertical-align: top;\n",
       "    }\n",
       "\n",
       "    .dataframe thead th {\n",
       "        text-align: right;\n",
       "    }\n",
       "</style>\n",
       "<table border=\"1\" class=\"dataframe\">\n",
       "  <thead>\n",
       "    <tr style=\"text-align: right;\">\n",
       "      <th></th>\n",
       "      <th>id</th>\n",
       "      <th>name</th>\n",
       "      <th>address1</th>\n",
       "      <th>address2</th>\n",
       "      <th>city</th>\n",
       "      <th>state</th>\n",
       "      <th>code</th>\n",
       "      <th>country</th>\n",
       "      <th>phone</th>\n",
       "      <th>website</th>\n",
       "      <th>filepath</th>\n",
       "      <th>descript</th>\n",
       "      <th>last_mod</th>\n",
       "    </tr>\n",
       "  </thead>\n",
       "  <tbody>\n",
       "    <tr>\n",
       "      <th>0</th>\n",
       "      <td>1</td>\n",
       "      <td>(512) Brewing Company</td>\n",
       "      <td>407 Radam, F200</td>\n",
       "      <td>NaN</td>\n",
       "      <td>Austin</td>\n",
       "      <td>Texas</td>\n",
       "      <td>78745</td>\n",
       "      <td>United States</td>\n",
       "      <td>512.707.2337</td>\n",
       "      <td>http://512brewing.com/</td>\n",
       "      <td>NaN</td>\n",
       "      <td>(512) Brewing Company is a microbrewery locate...</td>\n",
       "      <td>2010-07-22 20:00:20</td>\n",
       "    </tr>\n",
       "    <tr>\n",
       "      <th>1</th>\n",
       "      <td>2</td>\n",
       "      <td>21st Amendment Brewery Cafe</td>\n",
       "      <td>563 Second Street</td>\n",
       "      <td>NaN</td>\n",
       "      <td>San Francisco</td>\n",
       "      <td>California</td>\n",
       "      <td>94107</td>\n",
       "      <td>United States</td>\n",
       "      <td>1-415-369-0900</td>\n",
       "      <td>http://www.21st-amendment.com/</td>\n",
       "      <td>NaN</td>\n",
       "      <td>The 21st Amendment Brewery offers a variety of...</td>\n",
       "      <td>2010-10-24 13:54:07</td>\n",
       "    </tr>\n",
       "    <tr>\n",
       "      <th>2</th>\n",
       "      <td>3</td>\n",
       "      <td>3 Fonteinen Brouwerij Ambachtelijke Geuzestekerij</td>\n",
       "      <td>Hoogstraat 2A</td>\n",
       "      <td>NaN</td>\n",
       "      <td>Beersel</td>\n",
       "      <td>Vlaams Brabant</td>\n",
       "      <td>NaN</td>\n",
       "      <td>Belgium</td>\n",
       "      <td>32-02-/-306-71-03</td>\n",
       "      <td>http://www.3fonteinen.be/index.htm</td>\n",
       "      <td>NaN</td>\n",
       "      <td>NaN</td>\n",
       "      <td>2010-07-22 20:00:20</td>\n",
       "    </tr>\n",
       "    <tr>\n",
       "      <th>3</th>\n",
       "      <td>4</td>\n",
       "      <td>Aass Brewery</td>\n",
       "      <td>Ole Steensgt. 10 Postboks 1530</td>\n",
       "      <td>NaN</td>\n",
       "      <td>Drammen</td>\n",
       "      <td>NaN</td>\n",
       "      <td>NaN</td>\n",
       "      <td>Norway</td>\n",
       "      <td>47-32-26-60-00</td>\n",
       "      <td>http://www.aass.no</td>\n",
       "      <td>NaN</td>\n",
       "      <td>Aass Brewery was established in 1834 and is th...</td>\n",
       "      <td>2010-07-22 20:00:20</td>\n",
       "    </tr>\n",
       "    <tr>\n",
       "      <th>4</th>\n",
       "      <td>5</td>\n",
       "      <td>Abbaye de Leffe</td>\n",
       "      <td>Dinant</td>\n",
       "      <td>NaN</td>\n",
       "      <td>Dinant</td>\n",
       "      <td>Namur</td>\n",
       "      <td>NaN</td>\n",
       "      <td>Belgium</td>\n",
       "      <td>NaN</td>\n",
       "      <td>NaN</td>\n",
       "      <td>NaN</td>\n",
       "      <td>NaN</td>\n",
       "      <td>2010-07-22 20:00:20</td>\n",
       "    </tr>\n",
       "  </tbody>\n",
       "</table>\n",
       "</div>"
      ],
      "text/plain": [
       "   id                                               name  \\\n",
       "0   1                              (512) Brewing Company   \n",
       "1   2                        21st Amendment Brewery Cafe   \n",
       "2   3  3 Fonteinen Brouwerij Ambachtelijke Geuzestekerij   \n",
       "3   4                                       Aass Brewery   \n",
       "4   5                                    Abbaye de Leffe   \n",
       "\n",
       "                         address1 address2           city           state  \\\n",
       "0                 407 Radam, F200      NaN         Austin           Texas   \n",
       "1               563 Second Street      NaN  San Francisco      California   \n",
       "2                   Hoogstraat 2A      NaN        Beersel  Vlaams Brabant   \n",
       "3  Ole Steensgt. 10 Postboks 1530      NaN        Drammen             NaN   \n",
       "4                          Dinant      NaN         Dinant           Namur   \n",
       "\n",
       "    code        country              phone  \\\n",
       "0  78745  United States       512.707.2337   \n",
       "1  94107  United States     1-415-369-0900   \n",
       "2    NaN        Belgium  32-02-/-306-71-03   \n",
       "3    NaN         Norway     47-32-26-60-00   \n",
       "4    NaN        Belgium                NaN   \n",
       "\n",
       "                              website filepath  \\\n",
       "0              http://512brewing.com/      NaN   \n",
       "1      http://www.21st-amendment.com/      NaN   \n",
       "2  http://www.3fonteinen.be/index.htm      NaN   \n",
       "3                  http://www.aass.no      NaN   \n",
       "4                                 NaN      NaN   \n",
       "\n",
       "                                            descript             last_mod  \n",
       "0  (512) Brewing Company is a microbrewery locate...  2010-07-22 20:00:20  \n",
       "1  The 21st Amendment Brewery offers a variety of...  2010-10-24 13:54:07  \n",
       "2                                                NaN  2010-07-22 20:00:20  \n",
       "3  Aass Brewery was established in 1834 and is th...  2010-07-22 20:00:20  \n",
       "4                                                NaN  2010-07-22 20:00:20  "
      ]
     },
     "execution_count": 19,
     "metadata": {},
     "output_type": "execute_result"
    }
   ],
   "source": [
    "brewery.head()"
   ]
  },
  {
   "cell_type": "code",
   "execution_count": 20,
   "metadata": {},
   "outputs": [
    {
     "data": {
      "text/html": [
       "<div>\n",
       "<style scoped>\n",
       "    .dataframe tbody tr th:only-of-type {\n",
       "        vertical-align: middle;\n",
       "    }\n",
       "\n",
       "    .dataframe tbody tr th {\n",
       "        vertical-align: top;\n",
       "    }\n",
       "\n",
       "    .dataframe thead th {\n",
       "        text-align: right;\n",
       "    }\n",
       "</style>\n",
       "<table border=\"1\" class=\"dataframe\">\n",
       "  <thead>\n",
       "    <tr style=\"text-align: right;\">\n",
       "      <th></th>\n",
       "      <th>id</th>\n",
       "      <th>brewery_id</th>\n",
       "      <th>latitude</th>\n",
       "      <th>longitude</th>\n",
       "      <th>accuracy</th>\n",
       "    </tr>\n",
       "  </thead>\n",
       "  <tbody>\n",
       "    <tr>\n",
       "      <th>0</th>\n",
       "      <td>1</td>\n",
       "      <td>1</td>\n",
       "      <td>30.2234</td>\n",
       "      <td>-97.7697</td>\n",
       "      <td>ROOFTOP</td>\n",
       "    </tr>\n",
       "    <tr>\n",
       "      <th>1</th>\n",
       "      <td>2</td>\n",
       "      <td>2</td>\n",
       "      <td>37.7825</td>\n",
       "      <td>-122.3930</td>\n",
       "      <td>ROOFTOP</td>\n",
       "    </tr>\n",
       "    <tr>\n",
       "      <th>2</th>\n",
       "      <td>3</td>\n",
       "      <td>3</td>\n",
       "      <td>50.7668</td>\n",
       "      <td>4.3081</td>\n",
       "      <td>RANGE_INTERPOLATED</td>\n",
       "    </tr>\n",
       "    <tr>\n",
       "      <th>3</th>\n",
       "      <td>4</td>\n",
       "      <td>4</td>\n",
       "      <td>59.7451</td>\n",
       "      <td>10.2135</td>\n",
       "      <td>APPROXIMATE</td>\n",
       "    </tr>\n",
       "    <tr>\n",
       "      <th>4</th>\n",
       "      <td>5</td>\n",
       "      <td>5</td>\n",
       "      <td>50.2606</td>\n",
       "      <td>4.9122</td>\n",
       "      <td>APPROXIMATE</td>\n",
       "    </tr>\n",
       "  </tbody>\n",
       "</table>\n",
       "</div>"
      ],
      "text/plain": [
       "   id  brewery_id  latitude  longitude            accuracy\n",
       "0   1           1   30.2234   -97.7697             ROOFTOP\n",
       "1   2           2   37.7825  -122.3930             ROOFTOP\n",
       "2   3           3   50.7668     4.3081  RANGE_INTERPOLATED\n",
       "3   4           4   59.7451    10.2135         APPROXIMATE\n",
       "4   5           5   50.2606     4.9122         APPROXIMATE"
      ]
     },
     "execution_count": 20,
     "metadata": {},
     "output_type": "execute_result"
    }
   ],
   "source": [
    "geocode.head()"
   ]
  },
  {
   "cell_type": "code",
   "execution_count": 21,
   "metadata": {},
   "outputs": [
    {
     "data": {
      "text/html": [
       "<div>\n",
       "<style scoped>\n",
       "    .dataframe tbody tr th:only-of-type {\n",
       "        vertical-align: middle;\n",
       "    }\n",
       "\n",
       "    .dataframe tbody tr th {\n",
       "        vertical-align: top;\n",
       "    }\n",
       "\n",
       "    .dataframe thead th {\n",
       "        text-align: right;\n",
       "    }\n",
       "</style>\n",
       "<table border=\"1\" class=\"dataframe\">\n",
       "  <thead>\n",
       "    <tr style=\"text-align: right;\">\n",
       "      <th></th>\n",
       "      <th>id</th>\n",
       "      <th>cat_name</th>\n",
       "    </tr>\n",
       "  </thead>\n",
       "  <tbody>\n",
       "    <tr>\n",
       "      <th>0</th>\n",
       "      <td>-1</td>\n",
       "      <td>Unique</td>\n",
       "    </tr>\n",
       "    <tr>\n",
       "      <th>1</th>\n",
       "      <td>1</td>\n",
       "      <td>British Ale</td>\n",
       "    </tr>\n",
       "    <tr>\n",
       "      <th>2</th>\n",
       "      <td>2</td>\n",
       "      <td>Irish Ale</td>\n",
       "    </tr>\n",
       "    <tr>\n",
       "      <th>3</th>\n",
       "      <td>3</td>\n",
       "      <td>North American Ale</td>\n",
       "    </tr>\n",
       "    <tr>\n",
       "      <th>4</th>\n",
       "      <td>4</td>\n",
       "      <td>German Ale</td>\n",
       "    </tr>\n",
       "  </tbody>\n",
       "</table>\n",
       "</div>"
      ],
      "text/plain": [
       "   id            cat_name\n",
       "0  -1              Unique\n",
       "1   1         British Ale\n",
       "2   2           Irish Ale\n",
       "3   3  North American Ale\n",
       "4   4          German Ale"
      ]
     },
     "execution_count": 21,
     "metadata": {},
     "output_type": "execute_result"
    }
   ],
   "source": [
    "category.head()"
   ]
  },
  {
   "cell_type": "code",
   "execution_count": 22,
   "metadata": {},
   "outputs": [
    {
     "data": {
      "text/html": [
       "<div>\n",
       "<style scoped>\n",
       "    .dataframe tbody tr th:only-of-type {\n",
       "        vertical-align: middle;\n",
       "    }\n",
       "\n",
       "    .dataframe tbody tr th {\n",
       "        vertical-align: top;\n",
       "    }\n",
       "\n",
       "    .dataframe thead th {\n",
       "        text-align: right;\n",
       "    }\n",
       "</style>\n",
       "<table border=\"1\" class=\"dataframe\">\n",
       "  <thead>\n",
       "    <tr style=\"text-align: right;\">\n",
       "      <th></th>\n",
       "      <th>id</th>\n",
       "      <th>cat_id</th>\n",
       "      <th>style_name</th>\n",
       "      <th>Description</th>\n",
       "      <th>ABV_Low</th>\n",
       "      <th>ABV_High</th>\n",
       "      <th>IBU_low</th>\n",
       "      <th>IBU_High</th>\n",
       "      <th>SRM_Low</th>\n",
       "      <th>SRM_High</th>\n",
       "      <th>OG_Low</th>\n",
       "      <th>OG_High</th>\n",
       "      <th>FG_Low</th>\n",
       "      <th>FG_High</th>\n",
       "      <th>Glass Type</th>\n",
       "    </tr>\n",
       "  </thead>\n",
       "  <tbody>\n",
       "    <tr>\n",
       "      <th>0</th>\n",
       "      <td>1</td>\n",
       "      <td>1</td>\n",
       "      <td>Classic English-Style Pale Ale</td>\n",
       "      <td>Classic English pale ales are golden to copper...</td>\n",
       "      <td>4.5</td>\n",
       "      <td>5.5</td>\n",
       "      <td>20</td>\n",
       "      <td>40</td>\n",
       "      <td>5.0</td>\n",
       "      <td>5.0</td>\n",
       "      <td>NaN</td>\n",
       "      <td>NaN</td>\n",
       "      <td>1.008</td>\n",
       "      <td>1.016</td>\n",
       "      <td>Stein</td>\n",
       "    </tr>\n",
       "    <tr>\n",
       "      <th>1</th>\n",
       "      <td>2</td>\n",
       "      <td>1</td>\n",
       "      <td>English-Style India Pale Ale</td>\n",
       "      <td>Most traditional interpretations of English-st...</td>\n",
       "      <td>5.0</td>\n",
       "      <td>7.0</td>\n",
       "      <td>35</td>\n",
       "      <td>63</td>\n",
       "      <td>6.0</td>\n",
       "      <td>14.0</td>\n",
       "      <td>NaN</td>\n",
       "      <td>NaN</td>\n",
       "      <td>1.012</td>\n",
       "      <td>1.018</td>\n",
       "      <td>Nonic Pint</td>\n",
       "    </tr>\n",
       "    <tr>\n",
       "      <th>2</th>\n",
       "      <td>3</td>\n",
       "      <td>1</td>\n",
       "      <td>Ordinary Bitter</td>\n",
       "      <td>Ordinary bitter is gold to copper colored with...</td>\n",
       "      <td>3.0</td>\n",
       "      <td>4.1</td>\n",
       "      <td>20</td>\n",
       "      <td>35</td>\n",
       "      <td>5.0</td>\n",
       "      <td>12.0</td>\n",
       "      <td>NaN</td>\n",
       "      <td>NaN</td>\n",
       "      <td>1.006</td>\n",
       "      <td>1.012</td>\n",
       "      <td>Nonic Pint</td>\n",
       "    </tr>\n",
       "    <tr>\n",
       "      <th>3</th>\n",
       "      <td>4</td>\n",
       "      <td>1</td>\n",
       "      <td>Special Bitter or Best Bitter</td>\n",
       "      <td>Special bitter is more robust than ordinary bi...</td>\n",
       "      <td>4.1</td>\n",
       "      <td>4.8</td>\n",
       "      <td>28</td>\n",
       "      <td>40</td>\n",
       "      <td>6.0</td>\n",
       "      <td>14.0</td>\n",
       "      <td>NaN</td>\n",
       "      <td>NaN</td>\n",
       "      <td>1.006</td>\n",
       "      <td>1.012</td>\n",
       "      <td>Nonic Pint</td>\n",
       "    </tr>\n",
       "    <tr>\n",
       "      <th>4</th>\n",
       "      <td>5</td>\n",
       "      <td>1</td>\n",
       "      <td>Extra Special Bitter</td>\n",
       "      <td>Extra special bitter possesses medium to stron...</td>\n",
       "      <td>4.8</td>\n",
       "      <td>5.8</td>\n",
       "      <td>30</td>\n",
       "      <td>45</td>\n",
       "      <td>8.0</td>\n",
       "      <td>14.0</td>\n",
       "      <td>NaN</td>\n",
       "      <td>NaN</td>\n",
       "      <td>1.010</td>\n",
       "      <td>1.016</td>\n",
       "      <td>Nonic Pint</td>\n",
       "    </tr>\n",
       "  </tbody>\n",
       "</table>\n",
       "</div>"
      ],
      "text/plain": [
       "   id  cat_id                      style_name  \\\n",
       "0   1       1  Classic English-Style Pale Ale   \n",
       "1   2       1    English-Style India Pale Ale   \n",
       "2   3       1                 Ordinary Bitter   \n",
       "3   4       1   Special Bitter or Best Bitter   \n",
       "4   5       1            Extra Special Bitter   \n",
       "\n",
       "                                         Description  ABV_Low  ABV_High  \\\n",
       "0  Classic English pale ales are golden to copper...      4.5       5.5   \n",
       "1  Most traditional interpretations of English-st...      5.0       7.0   \n",
       "2  Ordinary bitter is gold to copper colored with...      3.0       4.1   \n",
       "3  Special bitter is more robust than ordinary bi...      4.1       4.8   \n",
       "4  Extra special bitter possesses medium to stron...      4.8       5.8   \n",
       "\n",
       "   IBU_low  IBU_High  SRM_Low  SRM_High  OG_Low  OG_High  FG_Low  FG_High  \\\n",
       "0       20        40      5.0       5.0     NaN      NaN   1.008    1.016   \n",
       "1       35        63      6.0      14.0     NaN      NaN   1.012    1.018   \n",
       "2       20        35      5.0      12.0     NaN      NaN   1.006    1.012   \n",
       "3       28        40      6.0      14.0     NaN      NaN   1.006    1.012   \n",
       "4       30        45      8.0      14.0     NaN      NaN   1.010    1.016   \n",
       "\n",
       "   Glass Type  \n",
       "0       Stein  \n",
       "1  Nonic Pint  \n",
       "2  Nonic Pint  \n",
       "3  Nonic Pint  \n",
       "4  Nonic Pint  "
      ]
     },
     "execution_count": 22,
     "metadata": {},
     "output_type": "execute_result"
    }
   ],
   "source": [
    "style.head()"
   ]
  },
  {
   "cell_type": "code",
   "execution_count": 24,
   "metadata": {},
   "outputs": [
    {
     "name": "stdout",
     "output_type": "stream",
     "text": [
      "Shape:  (141, 1) (141, 1)\n"
     ]
    }
   ],
   "source": [
    "X = style.ABV_High.values.reshape(-1, 1)\n",
    "y = style.IBU_High.values.reshape(-1, 1)\n",
    "print(\"Shape: \", X.shape, y.shape)"
   ]
  },
  {
   "cell_type": "code",
   "execution_count": 25,
   "metadata": {},
   "outputs": [
    {
     "data": {
      "text/plain": [
       "<matplotlib.collections.PathCollection at 0x175b7a8a6a0>"
      ]
     },
     "execution_count": 25,
     "metadata": {},
     "output_type": "execute_result"
    },
    {
     "data": {
      "image/png": "[encoded data removed]",
      "text/plain": [
       "<Figure size 432x288 with 1 Axes>"
      ]
     },
     "metadata": {
      "needs_background": "light"
     },
     "output_type": "display_data"
    }
   ],
   "source": [
    "plt.scatter(X, y)"
   ]
  },
  {
   "cell_type": "code",
   "execution_count": 26,
   "metadata": {},
   "outputs": [],
   "source": [
    "model = LinearRegression()"
   ]
  },
  {
   "cell_type": "code",
   "execution_count": 27,
   "metadata": {},
   "outputs": [
    {
     "data": {
      "text/plain": [
       "LinearRegression(copy_X=True, fit_intercept=True, n_jobs=None, normalize=False)"
      ]
     },
     "execution_count": 27,
     "metadata": {},
     "output_type": "execute_result"
    }
   ],
   "source": [
    "model.fit(X, y)"
   ]
  },
  {
   "cell_type": "code",
   "execution_count": 28,
   "metadata": {},
   "outputs": [
    {
     "name": "stdout",
     "output_type": "stream",
     "text": [
      "Weight coefficients:  [[4.5157204]]\n",
      "y-axis intercept:  [3.58186107]\n"
     ]
    }
   ],
   "source": [
    "print('Weight coefficients: ', model.coef_)\n",
    "print('y-axis intercept: ', model.intercept_)"
   ]
  },
  {
   "cell_type": "code",
   "execution_count": 29,
   "metadata": {},
   "outputs": [
    {
     "name": "stdout",
     "output_type": "stream",
     "text": [
      "Min X Value: [[3.4]]\n",
      "Max X Value: [[25.]]\n"
     ]
    }
   ],
   "source": [
    "x_min = np.array([[X.min()]])\n",
    "x_max = np.array([[X.max()]])\n",
    "print(f\"Min X Value: {x_min}\")\n",
    "print(f\"Max X Value: {x_max}\")"
   ]
  },
  {
   "cell_type": "code",
   "execution_count": 30,
   "metadata": {},
   "outputs": [],
   "source": [
    "y_min = model.predict(x_min)\n",
    "y_max = model.predict(x_max)"
   ]
  },
  {
   "cell_type": "code",
   "execution_count": 31,
   "metadata": {},
   "outputs": [
    {
     "data": {
      "text/plain": [
       "[<matplotlib.lines.Line2D at 0x175b7af15f8>]"
      ]
     },
     "execution_count": 31,
     "metadata": {},
     "output_type": "execute_result"
    },
    {
     "data": {
      "image/png": "[encoded data removed]",
      "text/plain": [
       "<Figure size 432x288 with 1 Axes>"
      ]
     },
     "metadata": {
      "needs_background": "light"
     },
     "output_type": "display_data"
    }
   ],
   "source": [
    "plt.scatter(X, y)\n",
    "plt.plot([x_min[0], x_max[0]], [y_min[0], y_max[0]], c = 'red')"
   ]
  },
  {
   "cell_type": "code",
   "execution_count": 38,
   "metadata": {},
   "outputs": [
    {
     "name": "stdout",
     "output_type": "stream",
     "text": [
      "Shape:  (141, 1) (141, 1)\n"
     ]
    }
   ],
   "source": [
    "X2 = style.ABV_Low.values.reshape(-1, 1)\n",
    "y2 = style.IBU_low.values.reshape(-1, 1)\n",
    "print(\"Shape: \", X.shape, y.shape)"
   ]
  },
  {
   "cell_type": "code",
   "execution_count": 39,
   "metadata": {},
   "outputs": [
    {
     "data": {
      "text/plain": [
       "<matplotlib.collections.PathCollection at 0x175b7bf3588>"
      ]
     },
     "execution_count": 39,
     "metadata": {},
     "output_type": "execute_result"
    },
    {
     "data": {
      "image/png": "[encoded data removed]",
      "text/plain": [
       "<Figure size 432x288 with 1 Axes>"
      ]
     },
     "metadata": {
      "needs_background": "light"
     },
     "output_type": "display_data"
    }
   ],
   "source": [
    "plt.scatter(X2, y2)"
   ]
  },
  {
   "cell_type": "code",
   "execution_count": 40,
   "metadata": {},
   "outputs": [],
   "source": [
    "model2 = LinearRegression()"
   ]
  },
  {
   "cell_type": "code",
   "execution_count": 41,
   "metadata": {},
   "outputs": [
    {
     "data": {
      "text/plain": [
       "LinearRegression(copy_X=True, fit_intercept=True, n_jobs=None, normalize=False)"
      ]
     },
     "execution_count": 41,
     "metadata": {},
     "output_type": "execute_result"
    }
   ],
   "source": [
    "model2.fit(X2, y2)"
   ]
  },
  {
   "cell_type": "code",
   "execution_count": 42,
   "metadata": {},
   "outputs": [
    {
     "name": "stdout",
     "output_type": "stream",
     "text": [
      "Weight coefficients:  [[5.22149532]]\n",
      "y-axis intercept:  [-4.81870017]\n"
     ]
    }
   ],
   "source": [
    "print('Weight coefficients: ', model2.coef_)\n",
    "print('y-axis intercept: ', model2.intercept_)"
   ]
  },
  {
   "cell_type": "code",
   "execution_count": 43,
   "metadata": {},
   "outputs": [
    {
     "name": "stdout",
     "output_type": "stream",
     "text": [
      "Min X Value: [[0.5]]\n",
      "Max X Value: [[9.]]\n"
     ]
    }
   ],
   "source": [
    "x_min2 = np.array([[X2.min()]])\n",
    "x_max2 = np.array([[X2.max()]])\n",
    "print(f\"Min X Value: {x_min2}\")\n",
    "print(f\"Max X Value: {x_max2}\")"
   ]
  },
  {
   "cell_type": "code",
   "execution_count": 45,
   "metadata": {},
   "outputs": [],
   "source": [
    "y_min2 = model2.predict(x_min2)\n",
    "y_max2 = model2.predict(x_max2)"
   ]
  },
  {
   "cell_type": "code",
   "execution_count": 46,
   "metadata": {},
   "outputs": [
    {
     "data": {
      "text/plain": [
       "[<matplotlib.lines.Line2D at 0x175b7c28eb8>]"
      ]
     },
     "execution_count": 46,
     "metadata": {},
     "output_type": "execute_result"
    },
    {
     "data": {
      "image/png": "[encoded data removed]",
      "text/plain": [
       "<Figure size 432x288 with 1 Axes>"
      ]
     },
     "metadata": {
      "needs_background": "light"
     },
     "output_type": "display_data"
    }
   ],
   "source": [
    "plt.scatter(X2, y2)\n",
    "plt.plot([x_min2[0], x_max2[0]], [y_min2[0], y_max2[0]], c = 'red')"
   ]
  },
  {
   "cell_type": "code",
   "execution_count": 49,
   "metadata": {},
   "outputs": [],
   "source": [
    "X3 = beer.abv\n",
    "y3 = beer.ibu.values.reshape(-1,1)"
   ]
  },
  {
   "cell_type": "code",
   "execution_count": 50,
   "metadata": {},
   "outputs": [],
   "source": [
    "X_train, X_test, y_train, y_test = train_test_split(X3, y3)"
   ]
  },
  {
   "cell_type": "code",
   "execution_count": null,
   "metadata": {},
   "outputs": [],
   "source": []
  }
 ],
 "metadata": {
  "kernelspec": {
   "display_name": "Python 3",
   "language": "python",
   "name": "python3"
  },
  "language_info": {
   "codemirror_mode": {
    "name": "ipython",
    "version": 3
   },
   "file_extension": ".py",
   "mimetype": "text/x-python",
   "name": "python",
   "nbconvert_exporter": "python",
   "pygments_lexer": "ipython3",
   "version": "3.7.3"
  }
 },
 "nbformat": 4,
 "nbformat_minor": 2
}
